{
  "nbformat": 4,
  "nbformat_minor": 0,
  "metadata": {
    "colab": {
      "name": "digit-recognition-svhn.ipynb",
      "provenance": [],
      "collapsed_sections": []
    },
    "kernelspec": {
      "name": "python2",
      "display_name": "Python 2"
    },
    "accelerator": "GPU"
  },
  "cells": [
    {
      "cell_type": "markdown",
      "metadata": {
        "id": "I1dsidLuUQ-l"
      },
      "source": [
        "# Multi Digit Number Recognition with SVHN .In Which Data quality is quite similar\n",
        "\n",
        "\n"
      ]
    },
    {
      "cell_type": "code",
      "metadata": {
        "id": "JecpVAHNIudP"
      },
      "source": [
        "from __future__ import print_function\n",
        "import numpy as np\n",
        "\n",
        "from six.moves import cPickle as pickle\n",
        "from six.moves import range\n",
        "\n",
        "import os\n",
        "import sys\n",
        "import tarfile\n",
        "from IPython.display import display, Image\n",
        "\n",
        "import h5py\n",
        "\n",
        "import matplotlib.pyplot as plt\n",
        "\n",
        "from PIL import Image\n",
        "import random\n",
        "from urllib import urlretrieve"
      ],
      "execution_count": null,
      "outputs": []
    },
    {
      "cell_type": "code",
      "metadata": {
        "id": "nTUl5eDVIxOJ"
      },
      "source": [
        "from collections import Counter"
      ],
      "execution_count": null,
      "outputs": []
    },
    {
      "cell_type": "code",
      "metadata": {
        "id": "21ssJM2tIzgp"
      },
      "source": [
        "%matplotlib inline"
      ],
      "execution_count": null,
      "outputs": []
    },
    {
      "cell_type": "code",
      "metadata": {
        "colab": {
          "base_uri": "https://localhost:8080/"
        },
        "id": "qlutTSAoI1U5",
        "outputId": "327bfd38-aced-405b-df19-f929565b0c94"
      },
      "source": [
        "url = 'http://ufldl.stanford.edu/housenumbers/'\n",
        "last_percent_reported = None\n",
        "\n",
        "def download_progress_hook(count, blockSize, totalSize):\n",
        "    \"\"\"A hook to report the progress of a download. This is mostly intended for users with\n",
        "    slow internet connections. Reports every 1% change in download progress.\n",
        "    \"\"\"\n",
        "    global last_percent_reported\n",
        "    percent = int(count * blockSize * 100 / totalSize)\n",
        "\n",
        "    if last_percent_reported != percent:\n",
        "        if percent % 5 == 0:\n",
        "            sys.stdout.write(\"%s%%\" % percent)\n",
        "            sys.stdout.flush()\n",
        "        else:\n",
        "            sys.stdout.write(\".\")\n",
        "            sys.stdout.flush()\n",
        "\n",
        "        last_percent_reported = percent\n",
        "\n",
        "def maybe_download(filename, expected_bytes, force=False):\n",
        "    \"\"\"Download a file if not present, and make sure it's the right size.\"\"\"\n",
        "    if force or not os.path.exists(filename):\n",
        "        print('Attempting to download:', filename) \n",
        "        filename, _ = urlretrieve(url + filename, filename, reporthook=download_progress_hook)\n",
        "        print('\\nDownload Complete!')\n",
        "    statinfo = os.stat(filename)\n",
        "    if statinfo.st_size == expected_bytes:\n",
        "        print('Found and verified', filename)\n",
        "    else:\n",
        "        raise Exception(\n",
        "          'Failed to verify ' + filename + '. Can you get to it with a browser?')\n",
        "    return filename\n",
        "\n",
        "train_filename = maybe_download('train.tar.gz', 404141560 )\n",
        "test_filename = maybe_download('test.tar.gz', 276555967 )"
      ],
      "execution_count": null,
      "outputs": [
        {
          "output_type": "stream",
          "text": [
            "Attempting to download: train.tar.gz\n",
            "0%....5%....10%....15%....20%....25%....30%....35%....40%....45%....50%....55%....60%....65%....70%....75%....80%....85%....90%....95%....100%\n",
            "Download Complete!\n",
            "Found and verified train.tar.gz\n",
            "Attempting to download: test.tar.gz\n",
            "0%....5%....10%....15%....20%....25%....30%....35%....40%....45%....50%....55%....60%....65%....70%....75%....80%....85%....90%....95%....100%\n",
            "Download Complete!\n",
            "Found and verified test.tar.gz\n"
          ],
          "name": "stdout"
        }
      ]
    },
    {
      "cell_type": "code",
      "metadata": {
        "colab": {
          "base_uri": "https://localhost:8080/"
        },
        "id": "sHZih146I3Rr",
        "outputId": "fb795a5b-f231-4009-b83e-394b97fde54e"
      },
      "source": [
        "num_classes = 10\n",
        "np.random.seed(133)\n",
        "\n",
        "train_filename = 'train.tar.gz'\n",
        "test_filename = 'test.tar.gz'\n",
        "def maybe_extract(filename, force=False):\n",
        "    root = os.path.splitext(os.path.splitext(filename)[0])[0] \n",
        "    if os.path.isdir(root) and not force:\n",
        "        print('%s already present - Skipping extraction of %s.' % (root, filename))\n",
        "    else:\n",
        "        print('Extracting data for %s. This may take a while. Please wait.' % root)\n",
        "        tar = tarfile.open(filename)\n",
        "        sys.stdout.flush()\n",
        "        tar.extractall()\n",
        "        tar.close()\n",
        "    if not os.path.exists(root+'/digitStruct.mat'):\n",
        "        print(\"digitStruct.mat is missing\")\n",
        "    return root + '/digitStruct.mat'\n",
        "  \n",
        "  \n",
        "train_folders = maybe_extract(train_filename)\n",
        "test_folders = maybe_extract(test_filename)"
      ],
      "execution_count": null,
      "outputs": [
        {
          "output_type": "stream",
          "text": [
            "Extracting data for train. This may take a while. Please wait.\n",
            "Extracting data for test. This may take a while. Please wait.\n"
          ],
          "name": "stdout"
        }
      ]
    },
    {
      "cell_type": "code",
      "metadata": {
        "colab": {
          "base_uri": "https://localhost:8080/"
        },
        "id": "R1MK_Nn1I5oW",
        "outputId": "b837e4e9-7676-4002-a871-be3a1d2e147e"
      },
      "source": [
        "train_dataset = h5py.File(train_folders, \"r\")\n",
        "train_dataset[\"digitStruct\"].items()"
      ],
      "execution_count": null,
      "outputs": [
        {
          "output_type": "execute_result",
          "data": {
            "text/plain": [
              "[(u'bbox', <HDF5 dataset \"bbox\": shape (33402, 1), type \"|O\">),\n",
              " (u'name', <HDF5 dataset \"name\": shape (33402, 1), type \"|O\">)]"
            ]
          },
          "metadata": {
            "tags": []
          },
          "execution_count": 6
        }
      ]
    },
    {
      "cell_type": "code",
      "metadata": {
        "id": "zEeT9PELI9v7"
      },
      "source": [
        "class DigitStructFile:\n",
        "    def __init__(self, inf):\n",
        "        self.inf = h5py.File(inf, 'r')\n",
        "        self.digitStructName = self.inf['digitStruct']['name']\n",
        "        self.digitStructBbox = self.inf['digitStruct']['bbox']\n",
        "    def getName(self,n):\n",
        "        return ''.join([chr(c[0]) for c in self.inf[self.digitStructName[n][0]].value])\n",
        "    def bboxHelper(self,attr):\n",
        "        if (len(attr) > 1):\n",
        "            attr = [self.inf[attr.value[j].item()].value[0][0] for j in range(len(attr))]\n",
        "        else:\n",
        "            attr = [attr.value[0][0]]\n",
        "        return attr\n",
        "    def getBbox(self,n):\n",
        "        bbox = {}\n",
        "        bb = self.digitStructBbox[n].item()\n",
        "        bbox['height'] = self.bboxHelper(self.inf[bb][\"height\"])\n",
        "        bbox['label'] = self.bboxHelper(self.inf[bb][\"label\"])\n",
        "        bbox['left'] = self.bboxHelper(self.inf[bb][\"left\"])\n",
        "        bbox['top'] = self.bboxHelper(self.inf[bb][\"top\"])\n",
        "        bbox['width'] = self.bboxHelper(self.inf[bb][\"width\"])\n",
        "        return bbox\n",
        "\n",
        "    def getDigitStructure(self,n):\n",
        "        s = self.getBbox(n)\n",
        "        s['name']=self.getName(n)\n",
        "        return s  \n",
        "    def getAllDigitStructure(self):\n",
        "        return [self.getDigitStructure(i) for i in range(len(self.digitStructName))]\n",
        "    def getAllDigitStructure_ByDigit(self):\n",
        "        pictDat = self.getAllDigitStructure()\n",
        "        result = []\n",
        "        structCnt = 1\n",
        "        for i in range(len(pictDat)):\n",
        "            item = { 'filename' : pictDat[i][\"name\"] }\n",
        "            figures = []\n",
        "            for j in range(len(pictDat[i]['height'])):\n",
        "                figure = {}\n",
        "                figure['height'] = pictDat[i]['height'][j]\n",
        "                figure['label']  = pictDat[i]['label'][j]\n",
        "                figure['left']   = pictDat[i]['left'][j]\n",
        "                figure['top']    = pictDat[i]['top'][j]\n",
        "                figure['width']  = pictDat[i]['width'][j]\n",
        "                figures.append(figure)\n",
        "            structCnt = structCnt + 1\n",
        "            item['boxes'] = figures\n",
        "            result.append(item)\n",
        "        return result"
      ],
      "execution_count": null,
      "outputs": []
    },
    {
      "cell_type": "code",
      "metadata": {
        "colab": {
          "base_uri": "https://localhost:8080/"
        },
        "id": "fpwKT94gJAF4",
        "outputId": "0d66fbe4-8dc8-4ab2-e65a-35e69d858cbe"
      },
      "source": [
        "print(train_folders)\n",
        "train = DigitStructFile(train_folders)\n",
        "train_data = train.getAllDigitStructure_ByDigit()\n",
        "\n",
        "\n",
        "test = DigitStructFile(test_folders)\n",
        "test_data = test.getAllDigitStructure_ByDigit()"
      ],
      "execution_count": null,
      "outputs": [
        {
          "output_type": "stream",
          "text": [
            "train/digitStruct.mat\n"
          ],
          "name": "stdout"
        }
      ]
    },
    {
      "cell_type": "code",
      "metadata": {
        "id": "N945Pmn8JBnH"
      },
      "source": [
        "pickle_file = 'multi_bbox_info.pickle'\n",
        "\n",
        "try:\n",
        "    f = open(pickle_file, 'wb')\n",
        "    save = {\n",
        "    'train_data': train_data,\n",
        "    'test_data': test_data,\n",
        "    }\n",
        "    pickle.dump(save, f, pickle.HIGHEST_PROTOCOL)\n",
        "    f.close()\n",
        "except Exception as e:\n",
        "    print('Unable to save data to', pickle_file, ':', e)\n",
        "    raise"
      ],
      "execution_count": null,
      "outputs": []
    },
    {
      "cell_type": "code",
      "metadata": {
        "colab": {
          "base_uri": "https://localhost:8080/"
        },
        "id": "QDdBmwMrJDhY",
        "outputId": "1b20f1bb-432d-4f7d-dfc4-b55836f6e9f1"
      },
      "source": [
        "pickle_file = 'multi_bbox_info.pickle'\n",
        "\n",
        "with open(pickle_file, 'rb') as f:\n",
        "    save = pickle.load(f)\n",
        "    train_data = save['train_data']\n",
        "    test_data = save['test_data']\n",
        "    del save\n",
        "    print('Training set', len(train_data))\n",
        "    print('Test set', len(test_data))"
      ],
      "execution_count": null,
      "outputs": [
        {
          "output_type": "stream",
          "text": [
            "Training set 33402\n",
            "Test set 13068\n"
          ],
          "name": "stdout"
        }
      ]
    },
    {
      "cell_type": "code",
      "metadata": {
        "id": "dnx31BAAJFI9"
      },
      "source": [
        "class Dataset:\n",
        "    \"\"\"crop images and save them to numpy ndarray\"\"\"\n",
        "    \n",
        "    def __init__(self, digitStruct, folder):\n",
        "        self.digitStruct = digitStruct\n",
        "        self.folder = folder\n",
        "        \n",
        "    def setDataset(self):\n",
        "        self.dataset = np.ndarray(shape=(len(self.digitStruct), 64, 64), dtype='float32')\n",
        "        self.labels = np.ones(shape=(len(self.digitStruct), 5), dtype='int') * 10 \n",
        "        \n",
        "    def getDataset(self):\n",
        "        \n",
        "        self.setDataset()\n",
        "        \n",
        "        for i in range(len(self.digitStruct)):\n",
        "\n",
        "            fin = os.path.join(self.folder, self.digitStruct[i]['filename'])\n",
        "            im = Image.open(fin)\n",
        "            \n",
        "            boxes = self.digitStruct[i]['boxes']\n",
        "            \n",
        "            if len(boxes) > 5:\n",
        "                print(fin, \"has more than 5 digits\")\n",
        "            else:\n",
        "                self.labels[i,0:len(boxes)] = [int(j['label']) for j in boxes]\n",
        "            \n",
        "            left = [j['left'] for j in boxes]\n",
        "            top = [j['top'] for j in boxes]\n",
        "            height = [j['height'] for j in boxes]\n",
        "            width = [j['width'] for j in boxes]\n",
        "            \n",
        "            box = self.img_box(im, left, top, height, width)\n",
        "\n",
        "            size = (64, 64)\n",
        "            region = im.crop(box).resize(size)\n",
        "            region = self.normalization(region)\n",
        "            self.dataset[i,:,:] = region[:,:]\n",
        "            \n",
        "        print('dataset:',self.dataset.shape)\n",
        "        print('labels:',self.labels.shape)\n",
        "        return self.dataset, self.labels\n",
        "        \n",
        "    def img_box(self, im, left, top, height, width):\n",
        "\n",
        "        im_left = min(left)\n",
        "        im_top = min(top)\n",
        "        im_height = max(top) + max(height) - im_top\n",
        "        im_width = max(left) + max(width) - im_left\n",
        "\n",
        "        im_top = im_top - im_height * 0.05 \n",
        "        im_left = im_left - im_width * 0.05\n",
        "        im_bottom = min(im.size[1], im_top + im_height * 1.05)\n",
        "        im_right = min(im.size[0], im_left + im_width * 1.05)\n",
        "\n",
        "        return (im_left, im_top, im_right, im_bottom)\n",
        "\n",
        "\n",
        "    def normalization(self, img):\n",
        "        im = self.rgb2gray(img)\n",
        "        mean = np.mean(im, dtype='float32')\n",
        "        std = np.std(im, dtype='float32', ddof=1)\n",
        "        return (im - mean) / std  \n",
        "    \n",
        "    def rgb2gray(self, img):\n",
        "        return np.dot(np.array(img, dtype='float32'), [0.299, 0.587, 0.114])"
      ],
      "execution_count": null,
      "outputs": []
    },
    {
      "cell_type": "code",
      "metadata": {
        "colab": {
          "base_uri": "https://localhost:8080/"
        },
        "id": "5iuMmirFJH8u",
        "outputId": "8e7eeb7f-b322-46e6-bbe7-e57d71f62fb4"
      },
      "source": [
        "train_dataset = Dataset(train_data, 'train')\n",
        "train_dataset, train_labels = train_dataset.getDataset()"
      ],
      "execution_count": null,
      "outputs": [
        {
          "output_type": "stream",
          "text": [
            "train/29930.png has more than 5 digits\n",
            "dataset: (33402, 64, 64)\n",
            "labels: (33402, 5)\n"
          ],
          "name": "stdout"
        }
      ]
    },
    {
      "cell_type": "code",
      "metadata": {
        "colab": {
          "base_uri": "https://localhost:8080/",
          "height": 285
        },
        "id": "dEOnFa7tJJzx",
        "outputId": "c991658e-f2be-41fc-f5f8-8374b6d2b40e"
      },
      "source": [
        "plt.imshow(train_dataset[29929,:,:])\n",
        "print(train_labels[29929])"
      ],
      "execution_count": null,
      "outputs": [
        {
          "output_type": "stream",
          "text": [
            "[10 10 10 10 10]\n"
          ],
          "name": "stdout"
        },
        {
          "output_type": "display_data",
          "data": {
            "image/png": "[encoded data removed]",
            "text/plain": [
              "<Figure size 432x288 with 1 Axes>"
            ]
          },
          "metadata": {
            "tags": [],
            "needs_background": "light"
          }
        }
      ]
    },
    {
      "cell_type": "code",
      "metadata": {
        "id": "dkNnoNK1JLi0"
      },
      "source": [
        "train_dataset = np.delete(train_dataset, 29929, axis=0)\n",
        "train_labels = np.delete(train_labels, 29929, axis=0)"
      ],
      "execution_count": null,
      "outputs": []
    },
    {
      "cell_type": "code",
      "metadata": {
        "colab": {
          "base_uri": "https://localhost:8080/"
        },
        "id": "3lIVb8C1JNla",
        "outputId": "022ac097-c309-421c-8114-deb5e7763bd9"
      },
      "source": [
        "test_dataset = Dataset(test_data, 'test')\n",
        "test_dataset, test_labels = test_dataset.getDataset()"
      ],
      "execution_count": null,
      "outputs": [
        {
          "output_type": "stream",
          "text": [
            "dataset: (13068, 64, 64)\n",
            "labels: (13068, 5)\n"
          ],
          "name": "stdout"
        }
      ]
    },
    {
      "cell_type": "code",
      "metadata": {
        "id": "POVtYbMgJRao"
      },
      "source": [
        "def randomize(dataset, labels):\n",
        "    permutation = np.random.permutation(labels.shape[0])\n",
        "    shuffled_dataset = dataset[permutation,:,:]\n",
        "    shuffled_labels = labels[permutation]\n",
        "    return shuffled_dataset, shuffled_labels\n",
        "train_dataset, train_labels = randomize(train_dataset, train_labels)\n",
        "test_dataset, test_labels = randomize(test_dataset, test_labels)"
      ],
      "execution_count": null,
      "outputs": []
    },
    {
      "cell_type": "code",
      "metadata": {
        "colab": {
          "base_uri": "https://localhost:8080/"
        },
        "id": "13qx51T-JT0p",
        "outputId": "107eb5e0-d6a8-41c6-88dd-469c9347a28d"
      },
      "source": [
        "train_portion = 6000\n",
        "valid_dataset = train_dataset[:train_portion,:,:]\n",
        "valid_labels = train_labels[:train_portion]\n",
        "train_dataset = train_dataset[train_portion:,:,:]\n",
        "train_labels = train_labels[train_portion:]\n",
        "                             \n",
        "print(train_dataset.shape, train_labels.shape)\n",
        "print(test_dataset.shape, test_labels.shape)\n",
        "print(valid_dataset.shape, valid_labels.shape)"
      ],
      "execution_count": null,
      "outputs": [
        {
          "output_type": "stream",
          "text": [
            "(27401, 64, 64) (27401, 5)\n",
            "(13068, 64, 64) (13068, 5)\n",
            "(6000, 64, 64) (6000, 5)\n"
          ],
          "name": "stdout"
        }
      ]
    },
    {
      "cell_type": "code",
      "metadata": {
        "id": "xicMFFRWJWa0"
      },
      "source": [
        "def disp_sample_dataset(dataset, label):\n",
        "    items = random.sample(range(dataset.shape[0]), 8)\n",
        "    for i, item in enumerate(items):\n",
        "        plt.subplot(2, 4, i+1)\n",
        "        plt.axis('off')\n",
        "        plt.title(label[i][0:5])\n",
        "        plt.imshow(dataset[i,:,:])"
      ],
      "execution_count": null,
      "outputs": []
    },
    {
      "cell_type": "code",
      "metadata": {
        "colab": {
          "base_uri": "https://localhost:8080/",
          "height": 254
        },
        "id": "XAxOshDIJZVM",
        "outputId": "069cef6b-d5e6-4472-b646-884c31a798bf"
      },
      "source": [
        "disp_sample_dataset(train_dataset, train_labels)"
      ],
      "execution_count": null,
      "outputs": [
        {
          "output_type": "display_data",
          "data": {
            "image/png": "[encoded data removed]",
            "text/plain": [
              "<Figure size 432x288 with 8 Axes>"
            ]
          },
          "metadata": {
            "tags": [],
            "needs_background": "light"
          }
        }
      ]
    },
    {
      "cell_type": "code",
      "metadata": {
        "colab": {
          "base_uri": "https://localhost:8080/",
          "height": 254
        },
        "id": "OIPcDYVFJdVi",
        "outputId": "295f7387-6bdb-44db-a9d2-5f3d627e0121"
      },
      "source": [
        "disp_sample_dataset(test_dataset, test_labels)"
      ],
      "execution_count": null,
      "outputs": [
        {
          "output_type": "display_data",
          "data": {
            "image/png": "[encoded data removed]",
            "text/plain": [
              "<Figure size 432x288 with 8 Axes>"
            ]
          },
          "metadata": {
            "tags": [],
            "needs_background": "light"
          }
        }
      ]
    },
    {
      "cell_type": "code",
      "metadata": {
        "colab": {
          "base_uri": "https://localhost:8080/",
          "height": 254
        },
        "id": "d6SHAap4JfJd",
        "outputId": "de1c56f4-9ca0-43c8-82fb-8adc942f752d"
      },
      "source": [
        "disp_sample_dataset(valid_dataset, valid_labels)"
      ],
      "execution_count": null,
      "outputs": [
        {
          "output_type": "display_data",
          "data": {
            "image/png": "[encoded data removed]",
            "text/plain": [
              "<Figure size 432x288 with 8 Axes>"
            ]
          },
          "metadata": {
            "tags": [],
            "needs_background": "light"
          }
        }
      ]
    },
    {
      "cell_type": "code",
      "metadata": {
        "colab": {
          "base_uri": "https://localhost:8080/"
        },
        "id": "VqOyU5RzJhUY",
        "outputId": "2f30a4f7-af87-4c6e-d6ab-b55c18fc7117"
      },
      "source": [
        "pickle_file = 'SVHN_multi_crop.pickle'\n",
        "\n",
        "try:\n",
        "    f = open(pickle_file, 'wb')\n",
        "    save = {\n",
        "    'train_dataset': train_dataset,\n",
        "    'train_labels': train_labels,\n",
        "    'valid_dataset': valid_dataset,\n",
        "    'valid_labels': valid_labels,\n",
        "    'test_dataset': test_dataset,\n",
        "    'test_labels': test_labels,\n",
        "    }\n",
        "    pickle.dump(save, f, pickle.HIGHEST_PROTOCOL)\n",
        "    f.close()\n",
        "    print(\"Done\")\n",
        "except Exception as e:\n",
        "    print('Unable to save data to', pickle_file, ':', e)\n",
        "    raise"
      ],
      "execution_count": null,
      "outputs": [
        {
          "output_type": "stream",
          "text": [
            "Done\n"
          ],
          "name": "stdout"
        }
      ]
    },
    {
      "cell_type": "code",
      "metadata": {
        "id": "_QUuHcyyF5iq",
        "colab": {
          "base_uri": "https://localhost:8080/"
        },
        "outputId": "cb01eebb-a56e-4be2-b75d-b569ac426bda"
      },
      "source": [
        "from __future__ import print_function\n",
        "import random\n",
        "from os import listdir\n",
        "import glob\n",
        "\n",
        "import numpy as np\n",
        "from scipy import misc\n",
        "import tensorflow as tf\n",
        "import h5py\n",
        "\n",
        "from keras.datasets import mnist\n",
        "from keras.utils import np_utils\n",
        "\n",
        "from six.moves import cPickle as pickle\n",
        "from six.moves import range\n",
        "\n",
        "\n",
        "import matplotlib.pyplot as plt\n",
        "%matplotlib inline"
      ],
      "execution_count": null,
      "outputs": [
        {
          "output_type": "stream",
          "text": [
            "Using TensorFlow backend.\n"
          ],
          "name": "stderr"
        }
      ]
    },
    {
      "cell_type": "code",
      "metadata": {
        "id": "F_giURzYGjWO"
      },
      "source": [
        "random.seed(42)\n"
      ],
      "execution_count": null,
      "outputs": []
    },
    {
      "cell_type": "markdown",
      "metadata": {
        "id": "ifZinCXN3yk1"
      },
      "source": [
        "## Load Dataset"
      ]
    },
    {
      "cell_type": "code",
      "metadata": {
        "id": "pKZMq9lA3x2P",
        "colab": {
          "base_uri": "https://localhost:8080/"
        },
        "outputId": "d033f595-cbc9-4dd1-96b9-8863927da65f"
      },
      "source": [
        "pickle_file = 'SVHN_multi_crop.pickle'\n",
        "\n",
        "with open(pickle_file, 'rb') as f:\n",
        "    save = pickle.load(f)\n",
        "    train_dataset = save['train_dataset']\n",
        "    train_labels = save['train_labels']\n",
        "    valid_dataset = save['valid_dataset']\n",
        "    valid_labels = save['valid_labels']\n",
        "    test_dataset = save['test_dataset']\n",
        "    test_labels = save['test_labels']\n",
        "    del save  \n",
        "    print('Training set', train_dataset.shape, train_labels.shape)\n",
        "    print('Validation set', valid_dataset.shape, valid_labels.shape)\n",
        "    print('Test set', test_dataset.shape, test_labels.shape)"
      ],
      "execution_count": null,
      "outputs": [
        {
          "output_type": "stream",
          "text": [
            "Training set (27401, 64, 64) (27401, 5)\n",
            "Validation set (6000, 64, 64) (6000, 5)\n",
            "Test set (13068, 64, 64) (13068, 5)\n"
          ],
          "name": "stdout"
        }
      ]
    },
    {
      "cell_type": "code",
      "metadata": {
        "id": "UK68ofOrHnI1",
        "colab": {
          "base_uri": "https://localhost:8080/",
          "height": 285
        },
        "outputId": "f6b52fc8-7ce8-4f49-f0cc-5a5a373089bb"
      },
      "source": [
        "plt.figure()\n",
        "plt.imshow(train_dataset[50], cmap='gray')\n",
        "\n",
        "print(\"Label for image: {}\".format(train_labels[50]))"
      ],
      "execution_count": null,
      "outputs": [
        {
          "output_type": "stream",
          "text": [
            "Label for image: [ 7  5 10 10 10]\n"
          ],
          "name": "stdout"
        },
        {
          "output_type": "display_data",
          "data": {
            "image/png": "[encoded data removed]",
            "text/plain": [
              "<Figure size 432x288 with 1 Axes>"
            ]
          },
          "metadata": {
            "tags": [],
            "needs_background": "light"
          }
        }
      ]
    },
    {
      "cell_type": "markdown",
      "metadata": {
        "id": "xOQpSYQNHKIu"
      },
      "source": [
        "## Convert Labels\n",
        "This function converts each digit label to one-hot array."
      ]
    },
    {
      "cell_type": "code",
      "metadata": {
        "id": "slWvJtn2Kts1"
      },
      "source": [
        "possible_classes = 11\n",
        "\n",
        "def convert_labels(labels):\n",
        "    dig0_arr = np.ndarray(shape=(len(labels),possible_classes))\n",
        "    dig1_arr = np.ndarray(shape=(len(labels),possible_classes))\n",
        "    dig2_arr = np.ndarray(shape=(len(labels),possible_classes))\n",
        "    dig3_arr = np.ndarray(shape=(len(labels),possible_classes))\n",
        "    dig4_arr = np.ndarray(shape=(len(labels),possible_classes))\n",
        "    \n",
        "    for index,label in enumerate(labels):\n",
        "        dig0_arr[index,:] = np_utils.to_categorical(label[0],possible_classes)\n",
        "        dig1_arr[index,:] = np_utils.to_categorical(label[1],possible_classes)\n",
        "        dig2_arr[index,:] = np_utils.to_categorical(label[2],possible_classes)\n",
        "        dig3_arr[index,:] = np_utils.to_categorical(label[3],possible_classes)\n",
        "        dig4_arr[index,:] = np_utils.to_categorical(label[4],possible_classes)\n",
        "        \n",
        "    return [dig0_arr,dig1_arr,dig2_arr,dig3_arr,dig4_arr]"
      ],
      "execution_count": null,
      "outputs": []
    },
    {
      "cell_type": "code",
      "metadata": {
        "id": "17m-itv9Lizo"
      },
      "source": [
        "train_labels = convert_labels(train_labels)\n",
        "test_labels = convert_labels(test_labels)\n",
        "valid_labels = convert_labels(valid_labels)"
      ],
      "execution_count": null,
      "outputs": []
    },
    {
      "cell_type": "code",
      "metadata": {
        "id": "NOjPwpQTLmAn",
        "colab": {
          "base_uri": "https://localhost:8080/"
        },
        "outputId": "c9b3c2a0-5180-48b4-864d-9b77369b9f16"
      },
      "source": [
        "np.shape(train_labels[0])"
      ],
      "execution_count": null,
      "outputs": [
        {
          "output_type": "execute_result",
          "data": {
            "text/plain": [
              "(27401, 11)"
            ]
          },
          "metadata": {
            "tags": []
          },
          "execution_count": 7
        }
      ]
    },
    {
      "cell_type": "markdown",
      "metadata": {
        "id": "Oe8PQKllIT2N"
      },
      "source": [
        "## Prepare Data for Keras\n",
        "Reshape image data to be processed by Keras."
      ]
    },
    {
      "cell_type": "code",
      "metadata": {
        "id": "WTQg2PaWLzc0"
      },
      "source": [
        "def prep_data_keras(img_data):\n",
        "    img_data = img_data.reshape(len(img_data), 64, 64, 1)\n",
        "    img_data = img_data.astype('float32')\n",
        "    img_data /= 255\n",
        "    \n",
        "    return img_data\n"
      ],
      "execution_count": null,
      "outputs": []
    },
    {
      "cell_type": "code",
      "metadata": {
        "id": "GHUhGAErL--5"
      },
      "source": [
        "train_images = prep_data_keras(train_dataset)\n",
        "test_images = prep_data_keras(test_dataset)\n",
        "valid_images = prep_data_keras(valid_dataset)"
      ],
      "execution_count": null,
      "outputs": []
    },
    {
      "cell_type": "code",
      "metadata": {
        "id": "D2p7Py9wMBGw",
        "colab": {
          "base_uri": "https://localhost:8080/"
        },
        "outputId": "668c05b0-44cd-47b4-d55e-26a5fd92841f"
      },
      "source": [
        "np.shape(train_images)"
      ],
      "execution_count": null,
      "outputs": [
        {
          "output_type": "execute_result",
          "data": {
            "text/plain": [
              "(27401, 64, 64, 1)"
            ]
          },
          "metadata": {
            "tags": []
          },
          "execution_count": 10
        }
      ]
    },
    {
      "cell_type": "code",
      "metadata": {
        "id": "INF-j_J_MTi_"
      },
      "source": [
        "from keras.models import Sequential, Model\n",
        "from keras.layers import Dense, Dropout, Activation, Flatten, Input\n",
        "from keras.layers import Conv2D, MaxPooling2D\n",
        "from keras.layers.normalization import BatchNormalization\n",
        "from keras.optimizers import SGD, RMSprop, Adadelta, Adam\n",
        "from keras.callbacks import ModelCheckpoint, EarlyStopping, TensorBoard\n"
      ],
      "execution_count": null,
      "outputs": []
    },
    {
      "cell_type": "markdown",
      "metadata": {
        "id": "sj66iuNtLfJu"
      },
      "source": [
        "## Build Model\n",
        "Build Deep Learning model to process data."
      ]
    },
    {
      "cell_type": "code",
      "metadata": {
        "id": "ixTneFcAM_BN",
        "colab": {
          "base_uri": "https://localhost:8080/"
        },
        "outputId": "c7728293-20af-440f-ab91-b9173527d002"
      },
      "source": [
        "batch_size = 32\n",
        "nb_classes = 11\n",
        "nb_epoch = 24\n",
        "img_rows = 64\n",
        "img_cols = 64\n",
        "img_channels = 1\n",
        "nb_filters = 32\n",
        "pool_size = (2, 2)\n",
        "kernel_size = (3, 3)\n",
        "inputs = Input(shape=(img_rows, img_cols, img_channels))\n",
        "cov = Conv2D(nb_filters,kernel_size=(kernel_size[0],kernel_size[1]),padding='same', use_bias=False)(inputs)\n",
        "cov = BatchNormalization()(cov)\n",
        "cov = Activation('relu')(cov)\n",
        "cov = Conv2D(nb_filters,kernel_size=(kernel_size[0],kernel_size[1]),padding='same', use_bias=False)(cov)\n",
        "cov = BatchNormalization()(cov)\n",
        "cov = Activation('relu')(cov)\n",
        "cov = MaxPooling2D(pool_size=pool_size)(cov)\n",
        "cov = Dropout(0.3)(cov)\n",
        "\n",
        "cov = Conv2D((nb_filters * 2),kernel_size=(kernel_size[0],kernel_size[1]), use_bias=False)(cov)\n",
        "cov = BatchNormalization()(cov)\n",
        "cov = Activation('relu')(cov)\n",
        "cov = Conv2D((nb_filters * 2),kernel_size=(kernel_size[0],kernel_size[1]),padding='same', use_bias=False)(cov)\n",
        "cov = BatchNormalization()(cov)\n",
        "cov = Activation('relu')(cov)\n",
        "cov = MaxPooling2D(pool_size=pool_size)(cov)\n",
        "cov = Dropout(0.3)(cov)\n",
        "\n",
        "\n",
        "cov = Conv2D((nb_filters * 4),kernel_size=(kernel_size[0],kernel_size[1]), use_bias=False)(cov)\n",
        "cov = BatchNormalization()(cov)\n",
        "cov = Activation('relu')(cov)\n",
        "cov = Conv2D((nb_filters * 4),kernel_size=(kernel_size[0],kernel_size[1]),padding='same', use_bias=False)(cov)\n",
        "cov = BatchNormalization()(cov)\n",
        "cov = Activation('relu')(cov)\n",
        "cov = MaxPooling2D(pool_size=pool_size)(cov)\n",
        "cov = Dropout(0.3)(cov)\n",
        "\n",
        "cov = Conv2D((nb_filters * 8),kernel_size=(kernel_size[0],kernel_size[1]), use_bias=False)(cov)\n",
        "cov = BatchNormalization()(cov)\n",
        "cov = Activation('relu')(cov)\n",
        "cov = Conv2D((nb_filters * 8),kernel_size=(kernel_size[0],kernel_size[1]),padding='same', use_bias=False)(cov)\n",
        "cov = BatchNormalization()(cov)\n",
        "cov = Activation('relu')(cov)\n",
        "cov = MaxPooling2D(pool_size=pool_size)(cov)\n",
        "cov = Dropout(0.3)(cov)\n",
        "cov_out = Flatten()(cov)\n",
        "cov2 = Dense(2056, activation='relu')(cov_out)\n",
        "cov2 = Dropout(0.3)(cov2)\n",
        "c0 = Dense(nb_classes, activation='softmax')(cov2)\n",
        "c1 = Dense(nb_classes, activation='softmax')(cov2)\n",
        "c2 = Dense(nb_classes, activation='softmax')(cov2)\n",
        "c3 = Dense(nb_classes, activation='softmax')(cov2)\n",
        "c4 = Dense(nb_classes, activation='softmax')(cov2)\n",
        "model = Model(inputs=inputs,outputs=[c0,c1,c2,c3,c4])\n",
        "print (model.summary())\n",
        "model.compile(loss='categorical_crossentropy',optimizer='adam',metrics=['accuracy'])\n",
        "\n",
        "early_stopping = EarlyStopping(monitor='val_loss', min_delta=0, patience=5, verbose=0, mode='auto')\n",
        "model.fit(train_images,train_labels,batch_size=batch_size,epochs=nb_epoch,verbose=1,\n",
        "          validation_data=(valid_images, valid_labels), callbacks=[early_stopping])"
      ],
      "execution_count": null,
      "outputs": [
        {
          "output_type": "stream",
          "text": [
            "Model: \"model_1\"\n",
            "__________________________________________________________________________________________________\n",
            "Layer (type)                    Output Shape         Param #     Connected to                     \n",
            "==================================================================================================\n",
            "input_1 (InputLayer)            (None, 64, 64, 1)    0                                            \n",
            "__________________________________________________________________________________________________\n",
            "conv2d_1 (Conv2D)               (None, 64, 64, 32)   288         input_1[0][0]                    \n",
            "__________________________________________________________________________________________________\n",
            "batch_normalization_1 (BatchNor (None, 64, 64, 32)   128         conv2d_1[0][0]                   \n",
            "__________________________________________________________________________________________________\n",
            "activation_1 (Activation)       (None, 64, 64, 32)   0           batch_normalization_1[0][0]      \n",
            "__________________________________________________________________________________________________\n",
            "conv2d_2 (Conv2D)               (None, 64, 64, 32)   9216        activation_1[0][0]               \n",
            "__________________________________________________________________________________________________\n",
            "batch_normalization_2 (BatchNor (None, 64, 64, 32)   128         conv2d_2[0][0]                   \n",
            "__________________________________________________________________________________________________\n",
            "activation_2 (Activation)       (None, 64, 64, 32)   0           batch_normalization_2[0][0]      \n",
            "__________________________________________________________________________________________________\n",
            "max_pooling2d_1 (MaxPooling2D)  (None, 32, 32, 32)   0           activation_2[0][0]               \n",
            "__________________________________________________________________________________________________\n",
            "dropout_1 (Dropout)             (None, 32, 32, 32)   0           max_pooling2d_1[0][0]            \n",
            "__________________________________________________________________________________________________\n",
            "conv2d_3 (Conv2D)               (None, 30, 30, 64)   18432       dropout_1[0][0]                  \n",
            "__________________________________________________________________________________________________\n",
            "batch_normalization_3 (BatchNor (None, 30, 30, 64)   256         conv2d_3[0][0]                   \n",
            "__________________________________________________________________________________________________\n",
            "activation_3 (Activation)       (None, 30, 30, 64)   0           batch_normalization_3[0][0]      \n",
            "__________________________________________________________________________________________________\n",
            "conv2d_4 (Conv2D)               (None, 30, 30, 64)   36864       activation_3[0][0]               \n",
            "__________________________________________________________________________________________________\n",
            "batch_normalization_4 (BatchNor (None, 30, 30, 64)   256         conv2d_4[0][0]                   \n",
            "__________________________________________________________________________________________________\n",
            "activation_4 (Activation)       (None, 30, 30, 64)   0           batch_normalization_4[0][0]      \n",
            "__________________________________________________________________________________________________\n",
            "max_pooling2d_2 (MaxPooling2D)  (None, 15, 15, 64)   0           activation_4[0][0]               \n",
            "__________________________________________________________________________________________________\n",
            "dropout_2 (Dropout)             (None, 15, 15, 64)   0           max_pooling2d_2[0][0]            \n",
            "__________________________________________________________________________________________________\n",
            "conv2d_5 (Conv2D)               (None, 13, 13, 128)  73728       dropout_2[0][0]                  \n",
            "__________________________________________________________________________________________________\n",
            "batch_normalization_5 (BatchNor (None, 13, 13, 128)  512         conv2d_5[0][0]                   \n",
            "__________________________________________________________________________________________________\n",
            "activation_5 (Activation)       (None, 13, 13, 128)  0           batch_normalization_5[0][0]      \n",
            "__________________________________________________________________________________________________\n",
            "conv2d_6 (Conv2D)               (None, 13, 13, 128)  147456      activation_5[0][0]               \n",
            "__________________________________________________________________________________________________\n",
            "batch_normalization_6 (BatchNor (None, 13, 13, 128)  512         conv2d_6[0][0]                   \n",
            "__________________________________________________________________________________________________\n",
            "activation_6 (Activation)       (None, 13, 13, 128)  0           batch_normalization_6[0][0]      \n",
            "__________________________________________________________________________________________________\n",
            "max_pooling2d_3 (MaxPooling2D)  (None, 6, 6, 128)    0           activation_6[0][0]               \n",
            "__________________________________________________________________________________________________\n",
            "dropout_3 (Dropout)             (None, 6, 6, 128)    0           max_pooling2d_3[0][0]            \n",
            "__________________________________________________________________________________________________\n",
            "conv2d_7 (Conv2D)               (None, 4, 4, 256)    294912      dropout_3[0][0]                  \n",
            "__________________________________________________________________________________________________\n",
            "batch_normalization_7 (BatchNor (None, 4, 4, 256)    1024        conv2d_7[0][0]                   \n",
            "__________________________________________________________________________________________________\n",
            "activation_7 (Activation)       (None, 4, 4, 256)    0           batch_normalization_7[0][0]      \n",
            "__________________________________________________________________________________________________\n",
            "conv2d_8 (Conv2D)               (None, 4, 4, 256)    589824      activation_7[0][0]               \n",
            "__________________________________________________________________________________________________\n",
            "batch_normalization_8 (BatchNor (None, 4, 4, 256)    1024        conv2d_8[0][0]                   \n",
            "__________________________________________________________________________________________________\n",
            "activation_8 (Activation)       (None, 4, 4, 256)    0           batch_normalization_8[0][0]      \n",
            "__________________________________________________________________________________________________\n",
            "max_pooling2d_4 (MaxPooling2D)  (None, 2, 2, 256)    0           activation_8[0][0]               \n",
            "__________________________________________________________________________________________________\n",
            "dropout_4 (Dropout)             (None, 2, 2, 256)    0           max_pooling2d_4[0][0]            \n",
            "__________________________________________________________________________________________________\n",
            "flatten_1 (Flatten)             (None, 1024)         0           dropout_4[0][0]                  \n",
            "__________________________________________________________________________________________________\n",
            "dense_1 (Dense)                 (None, 2056)         2107400     flatten_1[0][0]                  \n",
            "__________________________________________________________________________________________________\n",
            "dropout_5 (Dropout)             (None, 2056)         0           dense_1[0][0]                    \n",
            "__________________________________________________________________________________________________\n",
            "dense_2 (Dense)                 (None, 11)           22627       dropout_5[0][0]                  \n",
            "__________________________________________________________________________________________________\n",
            "dense_3 (Dense)                 (None, 11)           22627       dropout_5[0][0]                  \n",
            "__________________________________________________________________________________________________\n",
            "dense_4 (Dense)                 (None, 11)           22627       dropout_5[0][0]                  \n",
            "__________________________________________________________________________________________________\n",
            "dense_5 (Dense)                 (None, 11)           22627       dropout_5[0][0]                  \n",
            "__________________________________________________________________________________________________\n",
            "dense_6 (Dense)                 (None, 11)           22627       dropout_5[0][0]                  \n",
            "==================================================================================================\n",
            "Total params: 3,395,095\n",
            "Trainable params: 3,393,175\n",
            "Non-trainable params: 1,920\n",
            "__________________________________________________________________________________________________\n",
            "None\n",
            "Train on 27401 samples, validate on 6000 samples\n",
            "Epoch 1/24\n",
            "27401/27401 [==============================] - 37s 1ms/step - loss: 4.2642 - dense_2_loss: 1.4266 - dense_3_loss: 1.6698 - dense_4_loss: 0.9400 - dense_5_loss: 0.2191 - dense_6_loss: 0.0067 - dense_2_accuracy: 0.5224 - dense_3_accuracy: 0.4364 - dense_4_accuracy: 0.7411 - dense_5_accuracy: 0.9620 - dense_6_accuracy: 0.9986 - val_loss: 2.3219 - val_dense_2_loss: 0.6337 - val_dense_3_loss: 0.8836 - val_dense_4_loss: 0.6435 - val_dense_5_loss: 0.1533 - val_dense_6_loss: 0.0053 - val_dense_2_accuracy: 0.7957 - val_dense_3_accuracy: 0.7290 - val_dense_4_accuracy: 0.7880 - val_dense_5_accuracy: 0.9638 - val_dense_6_accuracy: 0.9995\n",
            "Epoch 2/24\n",
            "27401/27401 [==============================] - 33s 1ms/step - loss: 1.9757 - dense_2_loss: 0.5943 - dense_3_loss: 0.7070 - dense_4_loss: 0.5271 - dense_5_loss: 0.1447 - dense_6_loss: 0.0021 - dense_2_accuracy: 0.8122 - dense_3_accuracy: 0.7787 - dense_4_accuracy: 0.8278 - dense_5_accuracy: 0.9629 - dense_6_accuracy: 0.9998 - val_loss: 1.3823 - val_dense_2_loss: 0.4410 - val_dense_3_loss: 0.4861 - val_dense_4_loss: 0.3346 - val_dense_5_loss: 0.1136 - val_dense_6_loss: 0.0057 - val_dense_2_accuracy: 0.8603 - val_dense_3_accuracy: 0.8453 - val_dense_4_accuracy: 0.8962 - val_dense_5_accuracy: 0.9650 - val_dense_6_accuracy: 0.9995\n",
            "Epoch 3/24\n",
            "27401/27401 [==============================] - 33s 1ms/step - loss: 1.4689 - dense_2_loss: 0.4587 - dense_3_loss: 0.5133 - dense_4_loss: 0.3696 - dense_5_loss: 0.1251 - dense_6_loss: 0.0020 - dense_2_accuracy: 0.8579 - dense_3_accuracy: 0.8420 - dense_4_accuracy: 0.8848 - dense_5_accuracy: 0.9646 - dense_6_accuracy: 0.9998 - val_loss: 1.1109 - val_dense_2_loss: 0.3396 - val_dense_3_loss: 0.3797 - val_dense_4_loss: 0.2739 - val_dense_5_loss: 0.1085 - val_dense_6_loss: 0.0071 - val_dense_2_accuracy: 0.8917 - val_dense_3_accuracy: 0.8845 - val_dense_4_accuracy: 0.9193 - val_dense_5_accuracy: 0.9657 - val_dense_6_accuracy: 0.9995\n",
            "Epoch 4/24\n",
            "27401/27401 [==============================] - 33s 1ms/step - loss: 1.2524 - dense_2_loss: 0.3934 - dense_3_loss: 0.4431 - dense_4_loss: 0.3049 - dense_5_loss: 0.1091 - dense_6_loss: 0.0019 - dense_2_accuracy: 0.8790 - dense_3_accuracy: 0.8624 - dense_4_accuracy: 0.9058 - dense_5_accuracy: 0.9675 - dense_6_accuracy: 0.9998 - val_loss: 1.0322 - val_dense_2_loss: 0.3283 - val_dense_3_loss: 0.3486 - val_dense_4_loss: 0.2348 - val_dense_5_loss: 0.1124 - val_dense_6_loss: 0.0062 - val_dense_2_accuracy: 0.9003 - val_dense_3_accuracy: 0.8987 - val_dense_4_accuracy: 0.9325 - val_dense_5_accuracy: 0.9677 - val_dense_6_accuracy: 0.9995\n",
            "Epoch 5/24\n",
            "27401/27401 [==============================] - 33s 1ms/step - loss: 1.1021 - dense_2_loss: 0.3549 - dense_3_loss: 0.3861 - dense_4_loss: 0.2584 - dense_5_loss: 0.1003 - dense_6_loss: 0.0018 - dense_2_accuracy: 0.8910 - dense_3_accuracy: 0.8801 - dense_4_accuracy: 0.9200 - dense_5_accuracy: 0.9693 - dense_6_accuracy: 0.9998 - val_loss: 1.0191 - val_dense_2_loss: 0.3140 - val_dense_3_loss: 0.3558 - val_dense_4_loss: 0.2408 - val_dense_5_loss: 0.1006 - val_dense_6_loss: 0.0058 - val_dense_2_accuracy: 0.9037 - val_dense_3_accuracy: 0.8885 - val_dense_4_accuracy: 0.9292 - val_dense_5_accuracy: 0.9705 - val_dense_6_accuracy: 0.9995\n",
            "Epoch 6/24\n",
            "27401/27401 [==============================] - 33s 1ms/step - loss: 0.9874 - dense_2_loss: 0.3200 - dense_3_loss: 0.3475 - dense_4_loss: 0.2342 - dense_5_loss: 0.0867 - dense_6_loss: 8.3774e-04 - dense_2_accuracy: 0.9026 - dense_3_accuracy: 0.8942 - dense_4_accuracy: 0.9280 - dense_5_accuracy: 0.9737 - dense_6_accuracy: 0.9998 - val_loss: 0.9249 - val_dense_2_loss: 0.2977 - val_dense_3_loss: 0.3270 - val_dense_4_loss: 0.2041 - val_dense_5_loss: 0.0870 - val_dense_6_loss: 0.0071 - val_dense_2_accuracy: 0.9082 - val_dense_3_accuracy: 0.9032 - val_dense_4_accuracy: 0.9420 - val_dense_5_accuracy: 0.9770 - val_dense_6_accuracy: 0.9995\n",
            "Epoch 7/24\n",
            "27401/27401 [==============================] - 33s 1ms/step - loss: 0.8854 - dense_2_loss: 0.2885 - dense_3_loss: 0.3125 - dense_4_loss: 0.2048 - dense_5_loss: 0.0776 - dense_6_loss: 0.0014 - dense_2_accuracy: 0.9110 - dense_3_accuracy: 0.9051 - dense_4_accuracy: 0.9361 - dense_5_accuracy: 0.9762 - dense_6_accuracy: 0.9998 - val_loss: 0.8585 - val_dense_2_loss: 0.2766 - val_dense_3_loss: 0.2906 - val_dense_4_loss: 0.2014 - val_dense_5_loss: 0.0827 - val_dense_6_loss: 0.0060 - val_dense_2_accuracy: 0.9192 - val_dense_3_accuracy: 0.9195 - val_dense_4_accuracy: 0.9448 - val_dense_5_accuracy: 0.9760 - val_dense_6_accuracy: 0.9995\n",
            "Epoch 8/24\n",
            "27401/27401 [==============================] - 33s 1ms/step - loss: 0.8021 - dense_2_loss: 0.2665 - dense_3_loss: 0.2860 - dense_4_loss: 0.1831 - dense_5_loss: 0.0675 - dense_6_loss: 0.0014 - dense_2_accuracy: 0.9162 - dense_3_accuracy: 0.9128 - dense_4_accuracy: 0.9431 - dense_5_accuracy: 0.9789 - dense_6_accuracy: 0.9998 - val_loss: 0.8873 - val_dense_2_loss: 0.3015 - val_dense_3_loss: 0.3039 - val_dense_4_loss: 0.1981 - val_dense_5_loss: 0.0757 - val_dense_6_loss: 0.0068 - val_dense_2_accuracy: 0.9143 - val_dense_3_accuracy: 0.9155 - val_dense_4_accuracy: 0.9443 - val_dense_5_accuracy: 0.9767 - val_dense_6_accuracy: 0.9995\n",
            "Epoch 9/24\n",
            "27401/27401 [==============================] - 33s 1ms/step - loss: 0.7355 - dense_2_loss: 0.2436 - dense_3_loss: 0.2654 - dense_4_loss: 0.1687 - dense_5_loss: 0.0573 - dense_6_loss: 9.0977e-04 - dense_2_accuracy: 0.9258 - dense_3_accuracy: 0.9195 - dense_4_accuracy: 0.9457 - dense_5_accuracy: 0.9823 - dense_6_accuracy: 0.9998 - val_loss: 0.8425 - val_dense_2_loss: 0.2636 - val_dense_3_loss: 0.2889 - val_dense_4_loss: 0.2004 - val_dense_5_loss: 0.0818 - val_dense_6_loss: 0.0062 - val_dense_2_accuracy: 0.9248 - val_dense_3_accuracy: 0.9243 - val_dense_4_accuracy: 0.9480 - val_dense_5_accuracy: 0.9788 - val_dense_6_accuracy: 0.9995\n",
            "Epoch 10/24\n",
            "27401/27401 [==============================] - 33s 1ms/step - loss: 0.6650 - dense_2_loss: 0.2247 - dense_3_loss: 0.2347 - dense_4_loss: 0.1510 - dense_5_loss: 0.0536 - dense_6_loss: 8.0761e-04 - dense_2_accuracy: 0.9299 - dense_3_accuracy: 0.9288 - dense_4_accuracy: 0.9526 - dense_5_accuracy: 0.9832 - dense_6_accuracy: 0.9999 - val_loss: 0.8452 - val_dense_2_loss: 0.2675 - val_dense_3_loss: 0.2887 - val_dense_4_loss: 0.2078 - val_dense_5_loss: 0.0710 - val_dense_6_loss: 0.0084 - val_dense_2_accuracy: 0.9227 - val_dense_3_accuracy: 0.9183 - val_dense_4_accuracy: 0.9467 - val_dense_5_accuracy: 0.9828 - val_dense_6_accuracy: 0.9995\n",
            "Epoch 11/24\n",
            "27401/27401 [==============================] - 33s 1ms/step - loss: 0.6177 - dense_2_loss: 0.2047 - dense_3_loss: 0.2234 - dense_4_loss: 0.1401 - dense_5_loss: 0.0489 - dense_6_loss: 5.6527e-04 - dense_2_accuracy: 0.9359 - dense_3_accuracy: 0.9316 - dense_4_accuracy: 0.9561 - dense_5_accuracy: 0.9851 - dense_6_accuracy: 0.9998 - val_loss: 0.8759 - val_dense_2_loss: 0.2809 - val_dense_3_loss: 0.3067 - val_dense_4_loss: 0.1979 - val_dense_5_loss: 0.0801 - val_dense_6_loss: 0.0087 - val_dense_2_accuracy: 0.9242 - val_dense_3_accuracy: 0.9197 - val_dense_4_accuracy: 0.9510 - val_dense_5_accuracy: 0.9805 - val_dense_6_accuracy: 0.9995\n",
            "Epoch 12/24\n",
            "27401/27401 [==============================] - 33s 1ms/step - loss: 0.5695 - dense_2_loss: 0.1907 - dense_3_loss: 0.2073 - dense_4_loss: 0.1293 - dense_5_loss: 0.0419 - dense_6_loss: 6.5973e-04 - dense_2_accuracy: 0.9403 - dense_3_accuracy: 0.9354 - dense_4_accuracy: 0.9595 - dense_5_accuracy: 0.9866 - dense_6_accuracy: 0.9999 - val_loss: 0.8023 - val_dense_2_loss: 0.2428 - val_dense_3_loss: 0.2803 - val_dense_4_loss: 0.1994 - val_dense_5_loss: 0.0712 - val_dense_6_loss: 0.0078 - val_dense_2_accuracy: 0.9297 - val_dense_3_accuracy: 0.9267 - val_dense_4_accuracy: 0.9505 - val_dense_5_accuracy: 0.9812 - val_dense_6_accuracy: 0.9995\n",
            "Epoch 13/24\n",
            "27401/27401 [==============================] - 33s 1ms/step - loss: 0.5260 - dense_2_loss: 0.1800 - dense_3_loss: 0.1879 - dense_4_loss: 0.1178 - dense_5_loss: 0.0399 - dense_6_loss: 4.1327e-04 - dense_2_accuracy: 0.9414 - dense_3_accuracy: 0.9402 - dense_4_accuracy: 0.9625 - dense_5_accuracy: 0.9866 - dense_6_accuracy: 0.9999 - val_loss: 0.8345 - val_dense_2_loss: 0.2645 - val_dense_3_loss: 0.3010 - val_dense_4_loss: 0.1932 - val_dense_5_loss: 0.0663 - val_dense_6_loss: 0.0091 - val_dense_2_accuracy: 0.9287 - val_dense_3_accuracy: 0.9213 - val_dense_4_accuracy: 0.9502 - val_dense_5_accuracy: 0.9847 - val_dense_6_accuracy: 0.9995\n",
            "Epoch 14/24\n",
            "27401/27401 [==============================] - 33s 1ms/step - loss: 0.4901 - dense_2_loss: 0.1681 - dense_3_loss: 0.1808 - dense_4_loss: 0.1079 - dense_5_loss: 0.0335 - dense_6_loss: 7.1696e-04 - dense_2_accuracy: 0.9448 - dense_3_accuracy: 0.9425 - dense_4_accuracy: 0.9650 - dense_5_accuracy: 0.9890 - dense_6_accuracy: 0.9999 - val_loss: 0.8202 - val_dense_2_loss: 0.2547 - val_dense_3_loss: 0.2913 - val_dense_4_loss: 0.1989 - val_dense_5_loss: 0.0641 - val_dense_6_loss: 0.0108 - val_dense_2_accuracy: 0.9308 - val_dense_3_accuracy: 0.9275 - val_dense_4_accuracy: 0.9495 - val_dense_5_accuracy: 0.9833 - val_dense_6_accuracy: 0.9995\n",
            "Epoch 15/24\n",
            "27401/27401 [==============================] - 34s 1ms/step - loss: 0.4643 - dense_2_loss: 0.1608 - dense_3_loss: 0.1671 - dense_4_loss: 0.1050 - dense_5_loss: 0.0305 - dense_6_loss: 6.9223e-04 - dense_2_accuracy: 0.9475 - dense_3_accuracy: 0.9454 - dense_4_accuracy: 0.9661 - dense_5_accuracy: 0.9901 - dense_6_accuracy: 0.9999 - val_loss: 0.8346 - val_dense_2_loss: 0.2596 - val_dense_3_loss: 0.3027 - val_dense_4_loss: 0.1965 - val_dense_5_loss: 0.0644 - val_dense_6_loss: 0.0101 - val_dense_2_accuracy: 0.9268 - val_dense_3_accuracy: 0.9252 - val_dense_4_accuracy: 0.9542 - val_dense_5_accuracy: 0.9843 - val_dense_6_accuracy: 0.9995\n",
            "Epoch 16/24\n",
            "27401/27401 [==============================] - 33s 1ms/step - loss: 0.4329 - dense_2_loss: 0.1504 - dense_3_loss: 0.1600 - dense_4_loss: 0.0936 - dense_5_loss: 0.0286 - dense_6_loss: 2.4825e-04 - dense_2_accuracy: 0.9513 - dense_3_accuracy: 0.9480 - dense_4_accuracy: 0.9692 - dense_5_accuracy: 0.9901 - dense_6_accuracy: 0.9999 - val_loss: 0.8157 - val_dense_2_loss: 0.2566 - val_dense_3_loss: 0.2824 - val_dense_4_loss: 0.1972 - val_dense_5_loss: 0.0686 - val_dense_6_loss: 0.0095 - val_dense_2_accuracy: 0.9325 - val_dense_3_accuracy: 0.9288 - val_dense_4_accuracy: 0.9530 - val_dense_5_accuracy: 0.9855 - val_dense_6_accuracy: 0.9995\n",
            "Epoch 17/24\n",
            "27401/27401 [==============================] - 34s 1ms/step - loss: 0.3895 - dense_2_loss: 0.1365 - dense_3_loss: 0.1426 - dense_4_loss: 0.0818 - dense_5_loss: 0.0282 - dense_6_loss: 9.4190e-05 - dense_2_accuracy: 0.9553 - dense_3_accuracy: 0.9544 - dense_4_accuracy: 0.9735 - dense_5_accuracy: 0.9907 - dense_6_accuracy: 1.0000 - val_loss: 0.8620 - val_dense_2_loss: 0.2577 - val_dense_3_loss: 0.3026 - val_dense_4_loss: 0.2232 - val_dense_5_loss: 0.0664 - val_dense_6_loss: 0.0106 - val_dense_2_accuracy: 0.9325 - val_dense_3_accuracy: 0.9298 - val_dense_4_accuracy: 0.9508 - val_dense_5_accuracy: 0.9853 - val_dense_6_accuracy: 0.9995\n"
          ],
          "name": "stdout"
        },
        {
          "output_type": "execute_result",
          "data": {
            "text/plain": [
              "<keras.callbacks.callbacks.History at 0x7f0c47c07b90>"
            ]
          },
          "metadata": {
            "tags": []
          },
          "execution_count": 14
        }
      ]
    },
    {
      "cell_type": "code",
      "metadata": {
        "id": "w1gl0EeoPo6k"
      },
      "source": [
        "predictions = model.predict(test_images)"
      ],
      "execution_count": null,
      "outputs": []
    },
    {
      "cell_type": "code",
      "metadata": {
        "id": "bwnidcVqPNOQ"
      },
      "source": [
        "import keras\n",
        "model.save('my_model.h5')"
      ],
      "execution_count": null,
      "outputs": []
    },
    {
      "cell_type": "code",
      "metadata": {
        "id": "ZAitaDqggJkK"
      },
      "source": [
        "x=keras.models.load_model('my_model.h5')"
      ],
      "execution_count": null,
      "outputs": []
    },
    {
      "cell_type": "code",
      "metadata": {
        "colab": {
          "base_uri": "https://localhost:8080/"
        },
        "id": "1hV1IYrPgTNh",
        "outputId": "28ab0ce9-8a81-4e96-89ef-e4345d0c4a31"
      },
      "source": [
        "x.predict(test_images)"
      ],
      "execution_count": null,
      "outputs": [
        {
          "output_type": "execute_result",
          "data": {
            "text/plain": [
              "[array([[1.85597894e-25, 9.99997735e-01, 5.11408360e-10, ...,\n",
              "         1.75671722e-09, 6.65566631e-07, 1.04981744e-07],\n",
              "        [3.74091246e-22, 2.42907760e-07, 3.34660549e-10, ...,\n",
              "         8.63830646e-05, 5.71121852e-08, 2.75309731e-08],\n",
              "        [2.80694331e-16, 3.84326238e-04, 9.96568561e-01, ...,\n",
              "         5.27907605e-06, 2.08186987e-03, 1.55602481e-06],\n",
              "        ...,\n",
              "        [1.15515200e-30, 2.31229524e-06, 9.99975443e-01, ...,\n",
              "         7.42288648e-08, 3.13147230e-10, 2.88618800e-19],\n",
              "        [2.72623779e-18, 9.05744855e-06, 2.93058068e-01, ...,\n",
              "         1.14788354e-05, 1.32906061e-04, 2.17849205e-08],\n",
              "        [1.06858022e-10, 9.68621850e-01, 4.45410702e-03, ...,\n",
              "         2.16232445e-02, 9.74377617e-04, 1.19049946e-04]], dtype=float32),\n",
              " array([[5.9390409e-25, 1.1032493e-03, 5.4611199e-08, ..., 3.4279968e-09,\n",
              "         1.8156850e-09, 7.8672310e-06],\n",
              "        [4.5182826e-23, 2.6631947e-10, 1.4101587e-10, ..., 5.6492505e-11,\n",
              "         3.6991778e-11, 9.9999928e-01],\n",
              "        [9.4972120e-17, 3.8971517e-05, 5.2584885e-05, ..., 3.0431039e-07,\n",
              "         7.7474731e-08, 9.9989688e-01],\n",
              "        ...,\n",
              "        [4.3156016e-33, 1.8792128e-09, 3.1092819e-11, ..., 6.7775191e-10,\n",
              "         8.6211031e-11, 3.3400083e-10],\n",
              "        [4.0961740e-18, 3.4678777e-04, 2.2296661e-06, ..., 1.7071217e-04,\n",
              "         3.4528932e-06, 1.6988031e-06],\n",
              "        [9.4934657e-11, 8.3876768e-04, 2.3290012e-02, ..., 1.8142955e-02,\n",
              "         9.4376540e-01, 4.7721448e-03]], dtype=float32),\n",
              " array([[1.60855365e-23, 1.83603366e-09, 4.71615585e-12, ...,\n",
              "         8.75970269e-11, 1.65936752e-12, 9.71692860e-01],\n",
              "        [2.05898785e-21, 1.53955945e-10, 1.51060954e-16, ...,\n",
              "         1.04550835e-13, 2.42547284e-11, 1.00000000e+00],\n",
              "        [8.97198050e-16, 2.33923902e-06, 4.75023199e-07, ...,\n",
              "         2.53847907e-06, 4.23641040e-07, 9.99992371e-01],\n",
              "        ...,\n",
              "        [3.37833587e-33, 4.20305033e-15, 9.93896155e-13, ...,\n",
              "         5.34244871e-12, 1.19899979e-09, 1.45355665e-13],\n",
              "        [1.30104234e-20, 9.10335973e-10, 1.99920679e-12, ...,\n",
              "         8.52532541e-12, 5.53172525e-13, 1.00000000e+00],\n",
              "        [8.09453754e-11, 3.17905506e-05, 1.12293746e-05, ...,\n",
              "         2.60486291e-03, 4.26960432e-05, 2.21071485e-02]], dtype=float32),\n",
              " array([[1.44381538e-25, 4.99260769e-14, 1.06583119e-15, ...,\n",
              "         5.11216402e-14, 1.10770535e-16, 1.00000000e+00],\n",
              "        [8.65851205e-22, 5.18974078e-13, 9.56953774e-19, ...,\n",
              "         8.53387456e-14, 2.34396118e-20, 1.00000000e+00],\n",
              "        [8.17918413e-16, 1.27210225e-08, 5.74848746e-09, ...,\n",
              "         1.43820844e-10, 1.52015220e-10, 1.00000000e+00],\n",
              "        ...,\n",
              "        [5.92864102e-33, 2.18111687e-18, 1.29947196e-17, ...,\n",
              "         3.38986279e-14, 1.25508152e-13, 1.00000000e+00],\n",
              "        [7.85737937e-17, 5.66501114e-07, 1.35766343e-10, ...,\n",
              "         4.72585804e-10, 4.10959027e-12, 9.99999404e-01],\n",
              "        [8.56086224e-09, 1.68326008e-03, 5.34592662e-04, ...,\n",
              "         6.78102626e-03, 3.19360220e-03, 8.59789610e-01]], dtype=float32),\n",
              " array([[5.35294654e-29, 1.58203704e-23, 9.05331349e-26, ...,\n",
              "         8.01408955e-27, 1.14829428e-25, 1.00000000e+00],\n",
              "        [6.12090271e-24, 4.96091620e-20, 1.03412410e-21, ...,\n",
              "         9.75267727e-23, 4.22671724e-22, 1.00000000e+00],\n",
              "        [2.32496715e-19, 6.04423252e-19, 3.73592683e-17, ...,\n",
              "         1.34543967e-18, 1.83843786e-17, 1.00000000e+00],\n",
              "        ...,\n",
              "        [9.09199537e-36, 2.64221508e-32, 7.29433212e-32, ...,\n",
              "         1.31355579e-33, 2.96724382e-33, 1.00000000e+00],\n",
              "        [7.61814210e-23, 8.89902943e-25, 6.57239345e-21, ...,\n",
              "         3.25904693e-22, 3.89810156e-21, 1.00000000e+00],\n",
              "        [5.14173079e-12, 3.85865491e-08, 1.33170433e-10, ...,\n",
              "         4.06577827e-11, 1.11395684e-10, 1.00000000e+00]], dtype=float32)]"
            ]
          },
          "metadata": {
            "tags": []
          },
          "execution_count": 22
        }
      ]
    },
    {
      "cell_type": "code",
      "metadata": {
        "id": "aYoCA76RQWRm",
        "colab": {
          "base_uri": "https://localhost:8080/"
        },
        "outputId": "5cb82623-4bf5-487d-b438-4d254ec54563"
      },
      "source": [
        "np.shape(test_labels)\n",
        "print(predictions[0][0])\n",
        "print(np.argmax(predictions[0][0]))"
      ],
      "execution_count": null,
      "outputs": [
        {
          "output_type": "stream",
          "text": [
            "[2.3995954e-17 9.9984336e-01 1.4258625e-06 9.4024352e-07 7.2089015e-06\n",
            " 4.4586536e-06 1.0816735e-05 1.0720759e-04 2.3667069e-06 2.1726873e-05\n",
            " 4.6366750e-07]\n",
            "1\n"
          ],
          "name": "stdout"
        }
      ]
    },
    {
      "cell_type": "markdown",
      "metadata": {
        "id": "k8gkvmbWLoY1"
      },
      "source": [
        "## Calculate Accuracy\n",
        "Custom accuracy calculation for individual digits and the whole sequence."
      ]
    },
    {
      "cell_type": "code",
      "metadata": {
        "id": "UHb7NM2sQZ3U"
      },
      "source": [
        "def calculate_acc(predictions,real_labels):\n",
        "    \n",
        "    individual_counter = 0\n",
        "    global_sequence_counter = 0\n",
        "    coverage_counter = 0\n",
        "    confidence = 0.7\n",
        "    for i in range(0,len(predictions[0])):\n",
        "        # Reset sequence counter at the start of each image\n",
        "        sequence_counter = 0 \n",
        "        \n",
        "        for j in range(0,5):\n",
        "            \n",
        "            if np.argmax(predictions[j][i]) == np.argmax(real_labels[j][i]):\n",
        "                individual_counter += 1\n",
        "                sequence_counter += 1\n",
        "            if predictions[j][i][np.argmax(predictions[j][i])] >= confidence:\n",
        "                coverage_counter += 1\n",
        "        \n",
        "        if sequence_counter == 5:\n",
        "            global_sequence_counter += 1\n",
        "         \n",
        "    ind_accuracy = individual_counter / float(len(predictions[0]) * 5)\n",
        "    global_accuracy = global_sequence_counter / float(len(predictions[0]))\n",
        "    coverage = coverage_counter / float(len(predictions[0]) * 5)\n",
        "    \n",
        "    return ind_accuracy,global_accuracy, coverage"
      ],
      "execution_count": null,
      "outputs": []
    },
    {
      "cell_type": "code",
      "metadata": {
        "id": "LZSUiAerQ7tq"
      },
      "source": [
        "ind_acc, glob_acc, coverage = calculate_acc(predictions, test_labels)"
      ],
      "execution_count": null,
      "outputs": []
    },
    {
      "cell_type": "code",
      "metadata": {
        "id": "_I57NhTmRu2P",
        "colab": {
          "base_uri": "https://localhost:8080/"
        },
        "outputId": "a83bd7cf-8419-42f6-c516-db040761993f"
      },
      "source": [
        "print(\"The individual accuracy is {} %\".format(ind_acc * 100))\n",
        "print(\"The sequence prediction accuracy is {} %\".format(glob_acc * 100))\n",
        "print(\"The coverage is {} %\".format(coverage * 100))"
      ],
      "execution_count": null,
      "outputs": [
        {
          "output_type": "stream",
          "text": [
            "The individual accuracy is 96.5243342516 %\n",
            "The sequence prediction accuracy is 86.0728497092 %\n",
            "The coverage is 96.45087236 %\n"
          ],
          "name": "stdout"
        }
      ]
    },
    {
      "cell_type": "code",
      "metadata": {
        "id": "TI7q72qiR49W",
        "colab": {
          "base_uri": "https://localhost:8080/",
          "height": 1000
        },
        "outputId": "405b7c93-5866-4ed5-8267-1e9ac5c5a186"
      },
      "source": [
        "for i in random.sample(range(0,10000),5):\n",
        "    \n",
        "    actual_labels = []\n",
        "    predicted_labels = []\n",
        "    plt.figure()\n",
        "    plt.imshow(test_dataset[i])\n",
        "    for j in range(0,5):\n",
        "        actual_labels.append(np.argmax(test_labels[j][i]))\n",
        "        predicted_labels.append(np.argmax(predictions[j][i]))\n",
        "        \n",
        "    print(\"Actual labels: {}\".format(actual_labels))\n",
        "    print(\"Predicted labels: {}\\n\".format(predicted_labels))"
      ],
      "execution_count": null,
      "outputs": [
        {
          "output_type": "stream",
          "text": [
            "Actual labels: [2, 7, 2, 10, 10]\n",
            "Predicted labels: [4, 10, 10, 10, 10]\n",
            "\n",
            "Actual labels: [4, 5, 10, 10, 10]\n",
            "Predicted labels: [4, 5, 10, 10, 10]\n",
            "\n",
            "Actual labels: [6, 2, 10, 10, 10]\n",
            "Predicted labels: [6, 2, 10, 10, 10]\n",
            "\n",
            "Actual labels: [4, 8, 10, 10, 10]\n",
            "Predicted labels: [4, 8, 10, 10, 10]\n",
            "\n",
            "Actual labels: [2, 1, 6, 10, 10]\n",
            "Predicted labels: [2, 1, 6, 10, 10]\n",
            "\n"
          ],
          "name": "stdout"
        },
        {
          "output_type": "display_data",
          "data": {
            "image/png": "[encoded data removed]",
            "text/plain": [
              "<Figure size 432x288 with 1 Axes>"
            ]
          },
          "metadata": {
            "tags": [],
            "needs_background": "light"
          }
        },
        {
          "output_type": "display_data",
          "data": {
            "image/png": "[encoded data removed]",
            "text/plain": [
              "<Figure size 432x288 with 1 Axes>"
            ]
          },
          "metadata": {
            "tags": [],
            "needs_background": "light"
          }
        },
        {
          "output_type": "display_data",
          "data": {
            "image/png": "[encoded data removed]",
            "text/plain": [
              "<Figure size 432x288 with 1 Axes>"
            ]
          },
          "metadata": {
            "tags": [],
            "needs_background": "light"
          }
        },
        {
          "output_type": "display_data",
          "data": {
            "image/png": "[encoded data removed]",
            "text/plain": [
              "<Figure size 432x288 with 1 Axes>"
            ]
          },
          "metadata": {
            "tags": [],
            "needs_background": "light"
          }
        },
        {
          "output_type": "display_data",
          "data": {
            "image/png": "[encoded data removed]",
            "text/plain": [
              "<Figure size 432x288 with 1 Axes>"
            ]
          },
          "metadata": {
            "tags": [],
            "needs_background": "light"
          }
        }
      ]
    }
  ]
}